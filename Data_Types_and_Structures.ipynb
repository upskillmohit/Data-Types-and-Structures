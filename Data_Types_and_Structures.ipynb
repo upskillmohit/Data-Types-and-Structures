{
  "nbformat": 4,
  "nbformat_minor": 0,
  "metadata": {
    "colab": {
      "provenance": []
    },
    "kernelspec": {
      "name": "python3",
      "display_name": "Python 3"
    },
    "language_info": {
      "name": "python"
    }
  },
  "cells": [
    {
      "cell_type": "markdown",
      "source": [
        "# Data Types and Structures Questions"
      ],
      "metadata": {
        "id": "kx8csm08J320"
      }
    },
    {
      "cell_type": "markdown",
      "source": [
        "1. What are data structures, and why are they important ?\n",
        "\n",
        "  - Data structure is a way to organize data and help us to access, modify and keep data in a specific way.\n",
        "  They are important because of following reason:\n",
        "     - It helps to manipulate data easily\n",
        "     - It conserve the memory usage\n",
        "\n",
        "   Python has different type of data structures. e.g. List, Tuple Dictionaries\n",
        "   etc.\n",
        "\n",
        "\n",
        "2. Explain the difference between mutable and immutable data types with example\n",
        "     - Elements can be added, removed and changed after the object is created. It is useful when there is a need to modify exising data frequently as the object share the same memory.\n",
        "     - Elements of an immutatable data type cannot be modified after its creation. It ensures safety and performance.\n",
        "\n",
        "\n",
        "      pylist = [\"Mohit\",\"Saxena\",\"40\",\"mohit@gmmail.com\"]\n",
        "\n",
        "      pytuple = (\"Mohit\",\"Saxena\",\"40\",\"mohit@gmmail.com\")\n",
        "\n",
        "\n",
        "      pylist[0] = \"Shreay\"\n",
        "      print(pylist)\n",
        "\n",
        "      pytuple[0] = \"Shreay\"  # TypeError: 'tuple' object does not support item assignment\n",
        "\n",
        "      print(pytuple)\n",
        "\n",
        "3. What are the main differences between lists and tuples in Python?\n",
        "\n",
        "   - Lists are mutable because elements can be added, removed and changed after the list is created. It is useful when there is a need to modify exising data frequently as the object share the same memory.\n",
        "   - Tuples are immutable because elements of a tuple cannot be modified after the tuple is created. It ensures safety and performance.\n",
        "\n",
        "4. Describe how dictionaries store data.\n",
        "\n",
        "  -  A dictionary type stores data in the form of key:value pairs. It means each item in dictionary must have a key and value associated to it. This helps to access dicitionary items based on key or values store in the dictionary.\n",
        "\n",
        "5. Why might you use a set instead of a list in Python?\n",
        "\n",
        "   - Since sets do not allow to store duplicate values, they would be prefered create unique collection of elements.\n",
        "\n",
        "6. What is a string in Python, and how is it different from a list ?\n",
        "\n",
        " -  A string is an immutable data type that cannot be altered after creation but can only be re-intitialized.\n",
        " - Lists are mutable because elements can be added, removed and changed after the list is created. It is useful when there is a need to modify exising data frequently as the object share the same memory.\n",
        "\n",
        "7. How do tuples ensure data integrity in Python?\n",
        "\n",
        "-  Since tuple cannot be modified after the tuple is created. It ensures safety and performance through program execution.\n",
        "\n",
        "8. What is a hash table, and how does it relate to dictionaries in Python?\n",
        "\n",
        "- Hash table are data structures that allows data retieval by mapping keys to values. Dictionaries implements hashtable that store data as key:value pairs.\n",
        "\n",
        "9. Can lists contain different data types in Python ?\n",
        " - Yes, list can contain different data types like string, integer, float etc.\n",
        "\n",
        "10. Explain why strings are immutable in Python?\n",
        "   - A string is an immutable data type that cannot be altered after creation but can only be re-intitialized. They gurantee a constant value during program run\n",
        "\n",
        "     For example:\n",
        "\n",
        "     str = \"Learning Python\" # string data type with value\n",
        "     str[8] = \"-\" # TypeError: 'str' object does not support item assignment\n",
        "\n",
        "11. What advantages do dictionaries offer over lists for certain tasks?\n",
        "\n",
        "  - Dictionaries are much faster when you need to frequently check if an item exists or retrieve a value based on a key.\n",
        "  - When we need to dynamically add or remove key-value pairs, dictionaries are more efficient\n",
        "\n",
        "12. Describe a scenario where using a tuple would be preferable over a list\n",
        "\n",
        "  - To store states of a country\n",
        "  - To store pin codes of different places\n",
        "\n",
        "13. How do sets handle duplicate values in Python?\n",
        "\n",
        "  - While adding an element to a set, Python checks if the element already exists in the set using its hash value.\n",
        "\n",
        "14. How does the “in” keyword work differently for lists and dictionaries?\n",
        "\n",
        "- When you use 'in' with the list, Python checks each item in the list until until it finds a match. But when you use 'in' with the dictionaries, Python checks for the key in the hash table.\n",
        "\n",
        "15. Can you modify the elements of a tuple? Explain why or why not?\n",
        "\n",
        "  -No, we cannot modify the elements of a tuple. It is because the tuples are immutable which make it a safer and efficient option to store and access tuple items.\n",
        "\n",
        "16. What is a nested dictionary, and give an example of its use case ?\n",
        "   \n",
        "   - A dictionary containing another dictionary is Knows  as nested dictionary. It is required to organize complex data like configuration files.\n",
        "\n",
        "   For example:\n",
        "   Productdetails = {\"Name\":\"Product1\", \"Type\":{\".Net\":\"Type1\",\"JS\":\"Type2\"}}\n",
        "\n",
        "17. Describe the time complexity of accessing elements in a dictionary\n",
        "   \n",
        "   - Time complexity of dictionary is O(1) on average which means that the algorithm performs a fixed number of operations, irrespective of how large or small the input may be.\n",
        "\n",
        "18. In what situations are lists preferred over dictionaries?\n",
        "\n",
        "   - When we want to store and access the data sequentially\n",
        "   - When coolection items required to be accessed using index\n",
        "   - When required to perform stack and queue operations\n",
        "\n",
        "19. Why are dictionaries considered unordered, and how does that affect data retrieval?\n",
        "  - Dictionories stores data in hash table as key:value pairs which does not maintain the order of elements. Iterating over a dictionary or fetching its keys or values could produce elements in an arbitrary order.\n",
        "\n",
        "20. Explain the difference between a list and a dictionary in terms of data retrieval.\n",
        "    - Data is retrieved based on index or position of the element in a list. Use list when need to access data by their position    \n",
        "    - Data is accessed by a key associated to the value in a dictionary. Use Dictionary when need to access data by their unique key\n"
      ],
      "metadata": {
        "id": "1Z3TxgUuSyxD"
      }
    },
    {
      "cell_type": "markdown",
      "source": [
        "# Practical Questions"
      ],
      "metadata": {
        "id": "d_jIuseVq-lT"
      }
    },
    {
      "cell_type": "code",
      "source": [
        "#1. Write a code to create a string with your name and print it\n",
        "\n",
        "def printstring(name):\n",
        "    print(name)\n",
        "\n",
        "printstring(\"Mohit Saxena\")"
      ],
      "metadata": {
        "colab": {
          "base_uri": "https://localhost:8080/"
        },
        "id": "JjqHqj02VXtR",
        "outputId": "83811c38-6f0f-4cd7-ec96-951a79848836"
      },
      "execution_count": 9,
      "outputs": [
        {
          "output_type": "stream",
          "name": "stdout",
          "text": [
            "Mohit Saxena\n"
          ]
        }
      ]
    },
    {
      "cell_type": "code",
      "source": [
        "# 2. Write a code to find the length of the string \"Hello World\"\n",
        "\n",
        "def getlength(str):\n",
        "    print(len(str))\n",
        "\n",
        "getlength(\"Hello World\")"
      ],
      "metadata": {
        "colab": {
          "base_uri": "https://localhost:8080/"
        },
        "id": "miIQl7ylrnKl",
        "outputId": "86d8a7b6-2ff4-4910-896e-64ff12c42814"
      },
      "execution_count": 10,
      "outputs": [
        {
          "output_type": "stream",
          "name": "stdout",
          "text": [
            "11\n"
          ]
        }
      ]
    },
    {
      "cell_type": "code",
      "source": [
        "# 3. Write a code to slice the first 3 characters from the string \"Python Programming\"\n",
        "\n",
        "def getslice(str):\n",
        "    print(str[:3])\n",
        "\n",
        "getslice(\"Python Programming\")"
      ],
      "metadata": {
        "colab": {
          "base_uri": "https://localhost:8080/"
        },
        "id": "V0APk_dLrzkE",
        "outputId": "3f64b518-f4be-4499-be88-8a6575d6f54d"
      },
      "execution_count": 11,
      "outputs": [
        {
          "output_type": "stream",
          "name": "stdout",
          "text": [
            "Pyt\n"
          ]
        }
      ]
    },
    {
      "cell_type": "code",
      "source": [
        "# 4. Write a code to convert the string \"hello\" to uppercase\n",
        "\n",
        "def stconvert(name):\n",
        "    print(name.upper())\n",
        "\n",
        "stconvert(\"hello\")"
      ],
      "metadata": {
        "id": "EK3xnYSVsFdJ"
      },
      "execution_count": null,
      "outputs": []
    },
    {
      "cell_type": "code",
      "source": [
        "# 5. Write a code to replace the word \"apple\" with \"orange\" in the string \"I like apple\"\n",
        "\n",
        "def streplace(str):\n",
        "    print(str.replace(\"apple\",\"orange\"))\n",
        "\n",
        "streplace(\"I like apple\")"
      ],
      "metadata": {
        "id": "20iVmq_fsQgb"
      },
      "execution_count": null,
      "outputs": []
    },
    {
      "cell_type": "code",
      "source": [
        "# 6. Write a code to create a list with numbers 1 to 5 and print it\n",
        "def printnum(lst):\n",
        "  print(lst)\n",
        "\n",
        "printnum([1,2,3,4,5])"
      ],
      "metadata": {
        "colab": {
          "base_uri": "https://localhost:8080/"
        },
        "id": "V-ZmSIQbscUV",
        "outputId": "4fa771e5-d055-426a-ab99-a7567a38ebff"
      },
      "execution_count": 12,
      "outputs": [
        {
          "output_type": "stream",
          "name": "stdout",
          "text": [
            "[1, 2, 3, 4, 5]\n"
          ]
        }
      ]
    },
    {
      "cell_type": "code",
      "source": [
        "# 7. Write a code to append the number 10 to the list [1, 2, 3, 4]\n",
        "\n",
        "def appenditem(lst):\n",
        "  lst.append(10)\n",
        "  print(lst)\n",
        "\n",
        "appenditem([1,2,3,4])"
      ],
      "metadata": {
        "id": "rFVVqIdqtCai"
      },
      "execution_count": null,
      "outputs": []
    },
    {
      "cell_type": "code",
      "source": [
        "# 8. Write a code to remove the number 3 from the list [1, 2, 3, 4, 5]\n",
        "\n",
        "def removeitem(lst):\n",
        "  lst.remove(3)\n",
        "  print(lst)\n",
        "\n",
        "removeitem([1,2,3,4,5])\n"
      ],
      "metadata": {
        "id": "Qc1vv_hxtWNb"
      },
      "execution_count": null,
      "outputs": []
    },
    {
      "cell_type": "code",
      "source": [
        "# 9. Write a code to access the second element in the list ['a', 'b', 'c', 'd']\n",
        "\n",
        "def accessitem(lst):\n",
        "  print(lst[1])\n",
        "\n",
        "accessitem(['a', 'b', 'c', 'd'])"
      ],
      "metadata": {
        "id": "ziOfVtvGtfbj"
      },
      "execution_count": null,
      "outputs": []
    },
    {
      "cell_type": "code",
      "source": [
        "# 10. Write a code to reverse the list [10, 20, 30, 40, 50].\n",
        "\n",
        "def reverselist(lst):\n",
        "  print(lst[::-1])\n",
        "\n",
        "reverselist([10, 20, 30, 40, 50])"
      ],
      "metadata": {
        "id": "wL4vkx29toHD"
      },
      "execution_count": null,
      "outputs": []
    },
    {
      "cell_type": "code",
      "source": [
        "# 11. Write a code to create a tuple with the elements 100, 200, 300 and print it.\n",
        "\n",
        "def createtuple(tupl):\n",
        "  print(tuple)\n",
        "\n",
        "createtuple((100,200,300))"
      ],
      "metadata": {
        "id": "6y_FygoPtzIx"
      },
      "execution_count": null,
      "outputs": []
    },
    {
      "cell_type": "code",
      "source": [
        "# 12. Write a code to access the second-to-last element of the tuple ('red', 'green', 'blue', 'yellow').\n",
        "\n",
        "def accessitem(tupl):\n",
        "  print(tupl[-2])\n",
        "\n",
        "accessitem(('red', 'green', 'blue', 'yellow'))\n",
        "#"
      ],
      "metadata": {
        "colab": {
          "base_uri": "https://localhost:8080/"
        },
        "id": "IzBMdTPauGIn",
        "outputId": "d153d3ee-3444-4f14-ff80-e3ce80c4e3ef"
      },
      "execution_count": 13,
      "outputs": [
        {
          "output_type": "stream",
          "name": "stdout",
          "text": [
            "blue\n"
          ]
        }
      ]
    },
    {
      "cell_type": "code",
      "source": [
        "# 13. Write a code to find the minimum number in the tuple (10, 20, 5, 15).\n",
        "def findmin(lst):\n",
        "  num = min(lst)\n",
        "  print(num)\n",
        "\n",
        "findmin((10, 20, 5, 15))"
      ],
      "metadata": {
        "colab": {
          "base_uri": "https://localhost:8080/"
        },
        "id": "JPqDZ4NyvEdO",
        "outputId": "155e4f31-b166-4a1e-f03c-77f7282288aa"
      },
      "execution_count": 16,
      "outputs": [
        {
          "output_type": "stream",
          "name": "stdout",
          "text": [
            "5\n"
          ]
        }
      ]
    },
    {
      "cell_type": "code",
      "source": [
        "# 14. Write a code to find the index of the element \"cat\" in the tuple ('dog', 'cat', 'rabbit')\n",
        "\n",
        "def finindex(element,lst):\n",
        "  index = lst.index(element)\n",
        "  print(index)\n",
        "\n",
        "finindex(\"cat\",('dog', 'cat', 'rabbit'))"
      ],
      "metadata": {
        "colab": {
          "base_uri": "https://localhost:8080/"
        },
        "id": "1i931uHVv83G",
        "outputId": "8d02207d-2102-46e5-8b03-f69391e22a69"
      },
      "execution_count": 17,
      "outputs": [
        {
          "output_type": "stream",
          "name": "stdout",
          "text": [
            "1\n"
          ]
        }
      ]
    },
    {
      "cell_type": "code",
      "source": [
        "# 15. Write a code to create a tuple containing three different fruits and check if \"kiwi\" is in it.\n",
        "\n",
        "def findkiwi(tup):\n",
        "  if \"kiwi\" in tup :\n",
        "    print(\"kiwi is present\")\n",
        "  else:\n",
        "    print(\"kiwi not present\")\n",
        "\n",
        "findkiwi((\"apple\",\"banana\",\"orange\",\"kiwi\"))\n",
        "\n",
        "\n"
      ],
      "metadata": {
        "colab": {
          "base_uri": "https://localhost:8080/"
        },
        "id": "CtLBDsNnwVZR",
        "outputId": "2f3a65ba-79c4-455c-a8a7-20fd2e4741e8"
      },
      "execution_count": 24,
      "outputs": [
        {
          "output_type": "stream",
          "name": "stdout",
          "text": [
            "kiwi is present\n"
          ]
        }
      ]
    },
    {
      "cell_type": "code",
      "source": [
        "# 16. Write a code to create a set with the elements 'a', 'b', 'c' and print it\n",
        "\n",
        "def createset(egset):\n",
        "  print(egset)\n",
        "\n",
        "setabc = {'a','b','c'}\n",
        "createset(setabc)"
      ],
      "metadata": {
        "colab": {
          "base_uri": "https://localhost:8080/"
        },
        "id": "JnNBDZv6xvIK",
        "outputId": "f110c691-c5fc-4dc1-ecfd-ec9a7efcf676"
      },
      "execution_count": 26,
      "outputs": [
        {
          "output_type": "stream",
          "name": "stdout",
          "text": [
            "{'b', 'a', 'c'}\n"
          ]
        }
      ]
    },
    {
      "cell_type": "code",
      "source": [
        "# 17. Write a code to clear all elements from the set {1, 2, 3, 4, 5}.\n",
        "def clearset(egset):\n",
        "  egset.clear()\n",
        "  print(egset)\n",
        "\n",
        "setabc = {1, 2, 3, 4, 5}\n",
        "clearset(setabc)"
      ],
      "metadata": {
        "colab": {
          "base_uri": "https://localhost:8080/"
        },
        "id": "zZDW0CO-yaMe",
        "outputId": "b6633584-e5f5-466e-df28-3b3fbbb7bc3d"
      },
      "execution_count": 28,
      "outputs": [
        {
          "output_type": "stream",
          "name": "stdout",
          "text": [
            "{1, 2, 3, 4, 5}\n"
          ]
        }
      ]
    },
    {
      "cell_type": "code",
      "source": [
        " # 18. Write a code to remove the element 4 from the set {1, 2, 3, 4}\n",
        "\n",
        "def removeele(egset,ele):\n",
        "  egset.remove(ele)\n",
        "  print(egset)\n",
        "\n",
        "setid = {1, 2, 3, 4}\n",
        "removeele(setid,4)"
      ],
      "metadata": {
        "colab": {
          "base_uri": "https://localhost:8080/"
        },
        "id": "UQYOEQe8y3_k",
        "outputId": "7be244cb-2400-4ccd-a4b3-dca1886b1236"
      },
      "execution_count": 30,
      "outputs": [
        {
          "output_type": "stream",
          "name": "stdout",
          "text": [
            "{1, 2, 3}\n"
          ]
        }
      ]
    },
    {
      "cell_type": "code",
      "source": [
        "# 19. Write a code to find the union of two sets {1, 2, 3} and {3, 4, 5}\n",
        "\n",
        "def findunion(seta,setb):\n",
        "  setc= seta|setb\n",
        "  print(setc)\n",
        "\n",
        "findunion({1, 2, 3}, {3, 4, 5})"
      ],
      "metadata": {
        "colab": {
          "base_uri": "https://localhost:8080/"
        },
        "id": "JhMrARoCzXCD",
        "outputId": "82a09010-d984-4120-b9a2-afbf9f9f1696"
      },
      "execution_count": 31,
      "outputs": [
        {
          "output_type": "stream",
          "name": "stdout",
          "text": [
            "{1, 2, 3, 4, 5}\n"
          ]
        }
      ]
    },
    {
      "cell_type": "code",
      "source": [
        " # 20. Write a code to find the intersection of two sets {1, 2, 3} and {2, 3, 4}.\n",
        "def findinter(seta,setb):\n",
        "  setc= seta&setb\n",
        "  print(setc)\n",
        "\n",
        "findinter({1, 2, 3}, {3, 4, 5})"
      ],
      "metadata": {
        "colab": {
          "base_uri": "https://localhost:8080/"
        },
        "id": "Rdm67Rlvz_35",
        "outputId": "9845cefe-6dbd-493b-e6f4-8ef718f0ad01"
      },
      "execution_count": 32,
      "outputs": [
        {
          "output_type": "stream",
          "name": "stdout",
          "text": [
            "{3}\n"
          ]
        }
      ]
    },
    {
      "cell_type": "code",
      "source": [
        " #20. Write a code to create a dictionary with the keys \"name\", \"age\", and \"city\", and print it.\n",
        "def createdictionary(dictionary1):\n",
        "  print(dictionary1)\n",
        "\n",
        "dictionary1 = {\"name\":\"Mohit\",\"age\":25,\"city\":\"Delhi\"}\n",
        "createdictionary(dictionary1)"
      ],
      "metadata": {
        "colab": {
          "base_uri": "https://localhost:8080/"
        },
        "id": "bOJbaOmB0TKH",
        "outputId": "ffd11ff6-188a-4f94-f664-d62928330e19"
      },
      "execution_count": 34,
      "outputs": [
        {
          "output_type": "stream",
          "name": "stdout",
          "text": [
            "{'name': 'Mohit', 'age': 25, 'city': 'Delhi'}\n"
          ]
        }
      ]
    },
    {
      "cell_type": "code",
      "source": [
        "#21. Write a code to add a new key-value pair \"country\": \"USA\" to the dictionary {'name': 'John', 'age': 25}\n",
        "\n",
        "def addtodictionary(dictionary1):\n",
        "  dictionary1[\"country\"] = \"USA\"\n",
        "  print(dictionary1)\n",
        "\n",
        "dictionary1 = {\"name\":\"John\",\"age\":25}\n",
        "addtodictionary(dictionary1)"
      ],
      "metadata": {
        "colab": {
          "base_uri": "https://localhost:8080/"
        },
        "id": "Pjz-R04K0wEF",
        "outputId": "06d68d12-3ded-4a55-8e0e-bf893baa66a8"
      },
      "execution_count": 37,
      "outputs": [
        {
          "output_type": "stream",
          "name": "stdout",
          "text": [
            "{'name': 'John', 'age': 25, 'country': 'USA'}\n",
            "{'name': 'John', 'age': 25, 'country': 'USA'}\n"
          ]
        }
      ]
    },
    {
      "cell_type": "code",
      "source": [
        " #22. Write a code to access the value associated with the key \"name\" in the dictionary {'name': 'Alice', 'age': 30}.\n",
        "def findname(cust):\n",
        "  print(cust[\"name\"])\n",
        "\n",
        "cust = {'name': 'Alice', 'age': 30}\n",
        "findname(cust)"
      ],
      "metadata": {
        "colab": {
          "base_uri": "https://localhost:8080/"
        },
        "id": "fk4J6zZB1tGa",
        "outputId": "2275429e-22df-4340-bd29-e341dd61261c"
      },
      "execution_count": 38,
      "outputs": [
        {
          "output_type": "stream",
          "name": "stdout",
          "text": [
            "Alice\n"
          ]
        }
      ]
    },
    {
      "cell_type": "code",
      "source": [
        "#23. Write a code to remove the key \"age\" from the dictionary {'name': 'Bob', 'age': 22, 'city': 'New York'}\n",
        "def removebykey(cust):\n",
        "  del cust[\"age\"]\n",
        "  print(cust)\n",
        "\n",
        "cust = {'name': 'Bob', 'age': 22, 'city': 'New York'}\n",
        "removebykey(cust)"
      ],
      "metadata": {
        "colab": {
          "base_uri": "https://localhost:8080/"
        },
        "id": "WOhALoF02ErM",
        "outputId": "d255367c-e9f5-43a5-983d-602079fdc09c"
      },
      "execution_count": 41,
      "outputs": [
        {
          "output_type": "stream",
          "name": "stdout",
          "text": [
            "{'name': 'Bob', 'city': 'New York'}\n"
          ]
        }
      ]
    },
    {
      "cell_type": "code",
      "source": [
        "#25. Write a code to check if the key \"city\" exists in the dictionary {'name': 'Alice', 'city': 'Paris'}.\n",
        "def findcity(cust):\n",
        "  if \"city\" in cust:\n",
        "    print(\"city is present\")\n",
        "  else:\n",
        "    print(\"city not present\")\n",
        "\n",
        "cust = {'name': 'Alice', 'city': 'Paris'}\n",
        "findcity(cust)"
      ],
      "metadata": {
        "colab": {
          "base_uri": "https://localhost:8080/"
        },
        "id": "b-9NIAxJ2sdt",
        "outputId": "e2d5121c-b1dc-46a6-c810-a729991d4ce8"
      },
      "execution_count": 44,
      "outputs": [
        {
          "output_type": "stream",
          "name": "stdout",
          "text": [
            "city is present\n"
          ]
        }
      ]
    },
    {
      "cell_type": "code",
      "source": [
        "#26. Write a code to create a list, a tuple, and a dictionary, and print them all\n",
        "\n",
        "def printall(lst,tupl,dictionary1):\n",
        "  print(lst)\n",
        "  print(tupl)\n",
        "  print(dictionary1)\n",
        "\n",
        "printall([1,2,3,4,5],(1,2,3,4,5),{\"name\":\"Mohit\",\"age\":25,\"city\":\"Delhi\"})"
      ],
      "metadata": {
        "colab": {
          "base_uri": "https://localhost:8080/"
        },
        "id": "MCVig3tF4vkx",
        "outputId": "b8a29953-febe-48a6-d778-dcbc9e451010"
      },
      "execution_count": 45,
      "outputs": [
        {
          "output_type": "stream",
          "name": "stdout",
          "text": [
            "[1, 2, 3, 4, 5]\n",
            "(1, 2, 3, 4, 5)\n",
            "{'name': 'Mohit', 'age': 25, 'city': 'Delhi'}\n"
          ]
        }
      ]
    },
    {
      "cell_type": "code",
      "source": [
        "#27. Write a code to create a list of 5 random numbers between 1 and 100, sort it in ascending order, and print the result.\n",
        "import random\n",
        "def create_list():\n",
        "  random_list = random.sample(range(1, 101), 5)\n",
        "  random_list.sort()\n",
        "  print(random_list)\n",
        "\n",
        "create_list()"
      ],
      "metadata": {
        "colab": {
          "base_uri": "https://localhost:8080/"
        },
        "id": "BASOw7U55HUa",
        "outputId": "760aa29c-4c66-4c5c-f465-639892089acf"
      },
      "execution_count": 47,
      "outputs": [
        {
          "output_type": "stream",
          "name": "stdout",
          "text": [
            "[46, 77, 79, 84, 95]\n"
          ]
        }
      ]
    },
    {
      "cell_type": "code",
      "source": [
        "#28. Write a code to create a list with strings and print the element at the third index.\n",
        "\n",
        "def printelementonindex(lst,index):\n",
        "  print(lst[index])\n",
        "\n",
        "printelementonindex([\"UP\",\"Maharashtra\",\"Delhi\"],2)"
      ],
      "metadata": {
        "colab": {
          "base_uri": "https://localhost:8080/"
        },
        "id": "RqsKwxZu6T6T",
        "outputId": "52bffef3-b462-4202-e623-b2c1150c792d"
      },
      "execution_count": 48,
      "outputs": [
        {
          "output_type": "stream",
          "name": "stdout",
          "text": [
            "Delhi\n"
          ]
        }
      ]
    },
    {
      "cell_type": "code",
      "source": [
        "#29. Write a code to combine two dictionaries into one and print the result.\n",
        "def combinedic(dicstionary1):\n",
        "  dictionary2 = {\"gender\":\"Male\", \"City\":\"Delhi\"}\n",
        "  dictionary1.update(dictionary2)\n",
        "  print(dictionary1)\n",
        "\n",
        "dictionary1 = {\"name\":\"Mohit\",\"age\":25}\n",
        "combinedic(dictionary1)\n"
      ],
      "metadata": {
        "colab": {
          "base_uri": "https://localhost:8080/"
        },
        "id": "Kf0yHfuZ97BR",
        "outputId": "92e9f88f-8ca5-49db-eacf-0a0ebd6daa98"
      },
      "execution_count": 49,
      "outputs": [
        {
          "output_type": "stream",
          "name": "stdout",
          "text": [
            "{'name': 'Mohit', 'age': 25, 'gender': 'Male', 'City': 'Delhi'}\n"
          ]
        }
      ]
    },
    {
      "cell_type": "code",
      "source": [
        "#30. Write a code to convert a list of strings into a set.\n",
        "\n",
        "def convertlisttoset(lst):\n",
        "  print(set(lst))\n",
        "\n",
        "convertlisttoset([\"UP\",\"Maharashtra\",\"Delhi\",\"UP\"])"
      ],
      "metadata": {
        "colab": {
          "base_uri": "https://localhost:8080/"
        },
        "id": "W4Kutbsi-60U",
        "outputId": "098a5279-10c0-48d3-adf5-13ee2e6ed70e"
      },
      "execution_count": 51,
      "outputs": [
        {
          "output_type": "stream",
          "name": "stdout",
          "text": [
            "{'Maharashtra', 'Delhi', 'UP'}\n"
          ]
        }
      ]
    }
  ]
}